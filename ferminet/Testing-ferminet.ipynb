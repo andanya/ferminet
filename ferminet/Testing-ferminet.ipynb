{
 "cells": [
  {
   "cell_type": "code",
   "execution_count": 1,
   "id": "f6dab103-14c9-4819-986a-c4693032537b",
   "metadata": {
    "scrolled": true
   },
   "outputs": [
    {
     "name": "stdout",
     "output_type": "stream",
     "text": [
      "0 {'batch_size': Array(128, dtype=int32), 'damping': Array(1., dtype=float32), 'data_seen': Array(128, dtype=int32), 'learning_rate': Array(1.7462709, dtype=float32), 'loss': Array(2.3646538, dtype=float32), 'momentum': Array(-0., dtype=float32), 'new_loss': Array(nan, dtype=float32, weak_type=True), 'quad_model_change': Array(-1.5149225, dtype=float32), 'rho': Array(nan, dtype=float32, weak_type=True), 'scaled_grad_norm_sq': None, 'step': Array(1, dtype=int32)}\n",
      "1 {'batch_size': Array(128, dtype=int32), 'damping': Array(1., dtype=float32), 'data_seen': Array(256, dtype=int32), 'learning_rate': Array(0.45567128, dtype=float32), 'loss': Array(0.9914196, dtype=float32), 'momentum': Array(0.16053492, dtype=float32), 'new_loss': Array(nan, dtype=float32, weak_type=True), 'quad_model_change': Array(-0.6257111, dtype=float32), 'rho': Array(nan, dtype=float32, weak_type=True), 'scaled_grad_norm_sq': None, 'step': Array(2, dtype=int32)}\n",
      "2 {'batch_size': Array(128, dtype=int32), 'damping': Array(1., dtype=float32), 'data_seen': Array(384, dtype=int32), 'learning_rate': Array(0.11915515, dtype=float32), 'loss': Array(0.29808912, dtype=float32), 'momentum': Array(0.29257768, dtype=float32), 'new_loss': Array(nan, dtype=float32, weak_type=True), 'quad_model_change': Array(-0.11683515, dtype=float32), 'rho': Array(nan, dtype=float32, weak_type=True), 'scaled_grad_norm_sq': None, 'step': Array(3, dtype=int32)}\n",
      "3 {'batch_size': Array(128, dtype=int32), 'damping': Array(1., dtype=float32), 'data_seen': Array(512, dtype=int32), 'learning_rate': Array(0.12723835, dtype=float32), 'loss': Array(0.1676142, dtype=float32), 'momentum': Array(0.5155313, dtype=float32), 'new_loss': Array(nan, dtype=float32, weak_type=True), 'quad_model_change': Array(-0.04477188, dtype=float32), 'rho': Array(nan, dtype=float32, weak_type=True), 'scaled_grad_norm_sq': None, 'step': Array(4, dtype=int32)}\n",
      "4 {'batch_size': Array(128, dtype=int32), 'damping': Array(1., dtype=float32), 'data_seen': Array(640, dtype=int32), 'learning_rate': Array(0.12609228, dtype=float32), 'loss': Array(0.11900996, dtype=float32), 'momentum': Array(0.5880365, dtype=float32), 'new_loss': Array(0.0971905, dtype=float32, weak_type=True), 'quad_model_change': Array(-0.02062363, dtype=float32), 'rho': Array(1.0579833, dtype=float32, weak_type=True), 'scaled_grad_norm_sq': None, 'step': Array(5, dtype=int32)}\n",
      "5 {'batch_size': Array(128, dtype=int32), 'damping': Array(0.59049, dtype=float32), 'data_seen': Array(768, dtype=int32), 'learning_rate': Array(0.46142292, dtype=float32), 'loss': Array(0.0971905, dtype=float32), 'momentum': Array(0.76688844, dtype=float32), 'new_loss': Array(nan, dtype=float32, weak_type=True), 'quad_model_change': Array(-0.01348268, dtype=float32), 'rho': Array(nan, dtype=float32, weak_type=True), 'scaled_grad_norm_sq': None, 'step': Array(6, dtype=int32)}\n",
      "6 {'batch_size': Array(128, dtype=int32), 'damping': Array(0.59049, dtype=float32), 'data_seen': Array(896, dtype=int32), 'learning_rate': Array(0.03545267, dtype=float32), 'loss': Array(0.08278249, dtype=float32), 'momentum': Array(0.73810524, dtype=float32), 'new_loss': Array(nan, dtype=float32, weak_type=True), 'quad_model_change': Array(-0.00672196, dtype=float32), 'rho': Array(nan, dtype=float32, weak_type=True), 'scaled_grad_norm_sq': None, 'step': Array(7, dtype=int32)}\n",
      "7 {'batch_size': Array(128, dtype=int32), 'damping': Array(0.59049, dtype=float32), 'data_seen': Array(1024, dtype=int32), 'learning_rate': Array(0.04338744, dtype=float32), 'loss': Array(0.07576496, dtype=float32), 'momentum': Array(0.76047975, dtype=float32), 'new_loss': Array(nan, dtype=float32, weak_type=True), 'quad_model_change': Array(-0.00373693, dtype=float32), 'rho': Array(nan, dtype=float32, weak_type=True), 'scaled_grad_norm_sq': None, 'step': Array(8, dtype=int32)}\n",
      "8 {'batch_size': Array(128, dtype=int32), 'damping': Array(0.59049, dtype=float32), 'data_seen': Array(1152, dtype=int32), 'learning_rate': Array(0.04404021, dtype=float32), 'loss': Array(0.07191869, dtype=float32), 'momentum': Array(0.7861306, dtype=float32), 'new_loss': Array(nan, dtype=float32, weak_type=True), 'quad_model_change': Array(-0.00227656, dtype=float32), 'rho': Array(nan, dtype=float32, weak_type=True), 'scaled_grad_norm_sq': None, 'step': Array(9, dtype=int32)}\n",
      "9 {'batch_size': Array(128, dtype=int32), 'damping': Array(0.59049, dtype=float32), 'data_seen': Array(1280, dtype=int32), 'learning_rate': Array(0.04211393, dtype=float32), 'loss': Array(0.06959543, dtype=float32), 'momentum': Array(0.81028855, dtype=float32), 'new_loss': Array(0.06807996, dtype=float32, weak_type=True), 'quad_model_change': Array(-0.00149245, dtype=float32), 'rho': Array(1.0154166, dtype=float32, weak_type=True), 'scaled_grad_norm_sq': None, 'step': Array(10, dtype=int32)}\n",
      "10 {'batch_size': Array(128, dtype=int32), 'damping': Array(0.3486784, dtype=float32), 'data_seen': Array(1408, dtype=int32), 'learning_rate': Array(-0.00553237, dtype=float32), 'loss': Array(0.06807996, dtype=float32), 'momentum': Array(1.2625675, dtype=float32), 'new_loss': Array(nan, dtype=float32, weak_type=True), 'quad_model_change': Array(-0.00146826, dtype=float32), 'rho': Array(nan, dtype=float32, weak_type=True), 'scaled_grad_norm_sq': None, 'step': Array(11, dtype=int32)}\n",
      "11 {'batch_size': Array(128, dtype=int32), 'damping': Array(0.3486784, dtype=float32), 'data_seen': Array(1536, dtype=int32), 'learning_rate': Array(0.03962528, dtype=float32), 'loss': Array(0.06657892, dtype=float32), 'momentum': Array(0.8032483, dtype=float32), 'new_loss': Array(nan, dtype=float32, weak_type=True), 'quad_model_change': Array(-0.00093675, dtype=float32), 'rho': Array(nan, dtype=float32, weak_type=True), 'scaled_grad_norm_sq': None, 'step': Array(12, dtype=int32)}\n",
      "12 {'batch_size': Array(128, dtype=int32), 'damping': Array(0.3486784, dtype=float32), 'data_seen': Array(1664, dtype=int32), 'learning_rate': Array(0.03845498, dtype=float32), 'loss': Array(0.06562731, dtype=float32), 'momentum': Array(0.82556504, dtype=float32), 'new_loss': Array(nan, dtype=float32, weak_type=True), 'quad_model_change': Array(-0.00063781, dtype=float32), 'rho': Array(nan, dtype=float32, weak_type=True), 'scaled_grad_norm_sq': None, 'step': Array(13, dtype=int32)}\n",
      "13 {'batch_size': Array(128, dtype=int32), 'damping': Array(0.3486784, dtype=float32), 'data_seen': Array(1792, dtype=int32), 'learning_rate': Array(0.03658523, dtype=float32), 'loss': Array(0.06498162, dtype=float32), 'momentum': Array(0.84443206, dtype=float32), 'new_loss': Array(nan, dtype=float32, weak_type=True), 'quad_model_change': Array(-0.00045682, dtype=float32), 'rho': Array(nan, dtype=float32, weak_type=True), 'scaled_grad_norm_sq': None, 'step': Array(14, dtype=int32)}\n",
      "14 {'batch_size': Array(128, dtype=int32), 'damping': Array(0.3486784, dtype=float32), 'data_seen': Array(1920, dtype=int32), 'learning_rate': Array(0.03462273, dtype=float32), 'loss': Array(0.06452057, dtype=float32), 'momentum': Array(0.860377, dtype=float32), 'new_loss': Array(0.06417684, dtype=float32, weak_type=True), 'quad_model_change': Array(-0.00034069, dtype=float32), 'rho': Array(1.0089258, dtype=float32, weak_type=True), 'scaled_grad_norm_sq': None, 'step': Array(15, dtype=int32)}\n",
      "15 {'batch_size': Array(128, dtype=int32), 'damping': Array(0.2058911, dtype=float32), 'data_seen': Array(2048, dtype=int32), 'learning_rate': Array(-0.03832336, dtype=float32), 'loss': Array(0.06417684, dtype=float32), 'momentum': Array(1.3809146, dtype=float32), 'new_loss': Array(nan, dtype=float32, weak_type=True), 'quad_model_change': Array(-0.00038977, dtype=float32), 'rho': Array(nan, dtype=float32, weak_type=True), 'scaled_grad_norm_sq': None, 'step': Array(16, dtype=int32)}\n",
      "16 {'batch_size': Array(128, dtype=int32), 'damping': Array(0.2058911, dtype=float32), 'data_seen': Array(2176, dtype=int32), 'learning_rate': Array(0.03950582, dtype=float32), 'loss': Array(0.06378205, dtype=float32), 'momentum': Array(0.83994085, dtype=float32), 'new_loss': Array(nan, dtype=float32, weak_type=True), 'quad_model_change': Array(-0.00027568, dtype=float32), 'rho': Array(nan, dtype=float32, weak_type=True), 'scaled_grad_norm_sq': None, 'step': Array(17, dtype=int32)}\n",
      "17 {'batch_size': Array(128, dtype=int32), 'damping': Array(0.2058911, dtype=float32), 'data_seen': Array(2304, dtype=int32), 'learning_rate': Array(0.03739555, dtype=float32), 'loss': Array(0.06350354, dtype=float32), 'momentum': Array(0.85673267, dtype=float32), 'new_loss': Array(nan, dtype=float32, weak_type=True), 'quad_model_change': Array(-0.0002036, dtype=float32), 'rho': Array(nan, dtype=float32, weak_type=True), 'scaled_grad_norm_sq': None, 'step': Array(18, dtype=int32)}\n",
      "18 {'batch_size': Array(128, dtype=int32), 'damping': Array(0.2058911, dtype=float32), 'data_seen': Array(2432, dtype=int32), 'learning_rate': Array(0.03534222, dtype=float32), 'loss': Array(0.06329818, dtype=float32), 'momentum': Array(0.8708207, dtype=float32), 'new_loss': Array(nan, dtype=float32, weak_type=True), 'quad_model_change': Array(-0.00015567, dtype=float32), 'rho': Array(nan, dtype=float32, weak_type=True), 'scaled_grad_norm_sq': None, 'step': Array(19, dtype=int32)}\n",
      "19 {'batch_size': Array(128, dtype=int32), 'damping': Array(0.2058911, dtype=float32), 'data_seen': Array(2560, dtype=int32), 'learning_rate': Array(0.03336702, dtype=float32), 'loss': Array(0.06314124, dtype=float32), 'momentum': Array(0.8824927, dtype=float32), 'new_loss': Array(0.06301811, dtype=float32, weak_type=True), 'quad_model_change': Array(-0.00012236, dtype=float32), 'rho': Array(1.0063192, dtype=float32, weak_type=True), 'scaled_grad_norm_sq': None, 'step': Array(20, dtype=int32)}\n",
      "20 {'batch_size': Array(128, dtype=int32), 'damping': Array(0.12157664, dtype=float32), 'data_seen': Array(2688, dtype=int32), 'learning_rate': Array(-0.04783387, dtype=float32), 'loss': Array(0.06301811, dtype=float32), 'momentum': Array(1.4300843, dtype=float32), 'new_loss': Array(nan, dtype=float32, weak_type=True), 'quad_model_change': Array(-0.00014916, dtype=float32), 'rho': Array(nan, dtype=float32, weak_type=True), 'scaled_grad_norm_sq': None, 'step': Array(21, dtype=int32)}\n",
      "21 {'batch_size': Array(128, dtype=int32), 'damping': Array(0.12157664, dtype=float32), 'data_seen': Array(2816, dtype=int32), 'learning_rate': Array(0.04154676, dtype=float32), 'loss': Array(0.06286732, dtype=float32), 'momentum': Array(0.85856616, dtype=float32), 'new_loss': Array(nan, dtype=float32, weak_type=True), 'quad_model_change': Array(-0.00011069, dtype=float32), 'rho': Array(nan, dtype=float32, weak_type=True), 'scaled_grad_norm_sq': None, 'step': Array(22, dtype=int32)}\n",
      "22 {'batch_size': Array(128, dtype=int32), 'damping': Array(0.12157664, dtype=float32), 'data_seen': Array(2944, dtype=int32), 'learning_rate': Array(0.03914709, dtype=float32), 'loss': Array(0.06275558, dtype=float32), 'momentum': Array(0.87248653, dtype=float32), 'new_loss': Array(nan, dtype=float32, weak_type=True), 'quad_model_change': Array(-8.497777e-05, dtype=float32), 'rho': Array(nan, dtype=float32, weak_type=True), 'scaled_grad_norm_sq': None, 'step': Array(23, dtype=int32)}\n",
      "23 {'batch_size': Array(128, dtype=int32), 'damping': Array(0.12157664, dtype=float32), 'data_seen': Array(3072, dtype=int32), 'learning_rate': Array(0.03681422, dtype=float32), 'loss': Array(0.06266969, dtype=float32), 'momentum': Array(0.8838651, dtype=float32), 'new_loss': Array(nan, dtype=float32, weak_type=True), 'quad_model_change': Array(-6.70159e-05, dtype=float32), 'rho': Array(nan, dtype=float32, weak_type=True), 'scaled_grad_norm_sq': None, 'step': Array(24, dtype=int32)}\n",
      "24 {'batch_size': Array(128, dtype=int32), 'damping': Array(0.12157664, dtype=float32), 'data_seen': Array(3200, dtype=int32), 'learning_rate': Array(0.03499432, dtype=float32), 'loss': Array(0.06260237, dtype=float32), 'momentum': Array(0.8942436, dtype=float32), 'new_loss': Array(0.0625478, dtype=float32, weak_type=True), 'quad_model_change': Array(-5.4131426e-05, dtype=float32), 'rho': Array(1.008066, dtype=float32, weak_type=True), 'scaled_grad_norm_sq': None, 'step': Array(25, dtype=int32)}\n",
      "25 {'batch_size': Array(128, dtype=int32), 'damping': Array(0.07178979, dtype=float32), 'data_seen': Array(3328, dtype=int32), 'learning_rate': Array(-0.0541288, dtype=float32), 'loss': Array(0.0625478, dtype=float32), 'momentum': Array(1.4527519, dtype=float32), 'new_loss': Array(nan, dtype=float32, weak_type=True), 'quad_model_change': Array(-6.798903e-05, dtype=float32), 'rho': Array(nan, dtype=float32, weak_type=True), 'scaled_grad_norm_sq': None, 'step': Array(26, dtype=int32)}\n",
      "26 {'batch_size': Array(128, dtype=int32), 'damping': Array(0.07178979, dtype=float32), 'data_seen': Array(3456, dtype=int32), 'learning_rate': Array(0.04551737, dtype=float32), 'loss': Array(0.06247905, dtype=float32), 'momentum': Array(0.8690359, dtype=float32), 'new_loss': Array(nan, dtype=float32, weak_type=True), 'quad_model_change': Array(-5.1785628e-05, dtype=float32), 'rho': Array(nan, dtype=float32, weak_type=True), 'scaled_grad_norm_sq': None, 'step': Array(27, dtype=int32)}\n",
      "27 {'batch_size': Array(128, dtype=int32), 'damping': Array(0.07178979, dtype=float32), 'data_seen': Array(3584, dtype=int32), 'learning_rate': Array(0.04266666, dtype=float32), 'loss': Array(0.06242662, dtype=float32), 'momentum': Array(0.8811108, dtype=float32), 'new_loss': Array(nan, dtype=float32, weak_type=True), 'quad_model_change': Array(-4.0590323e-05, dtype=float32), 'rho': Array(nan, dtype=float32, weak_type=True), 'scaled_grad_norm_sq': None, 'step': Array(28, dtype=int32)}\n",
      "28 {'batch_size': Array(128, dtype=int32), 'damping': Array(0.07178979, dtype=float32), 'data_seen': Array(3712, dtype=int32), 'learning_rate': Array(0.04022694, dtype=float32), 'loss': Array(0.06238563, dtype=float32), 'momentum': Array(0.89155555, dtype=float32), 'new_loss': Array(nan, dtype=float32, weak_type=True), 'quad_model_change': Array(-3.259237e-05, dtype=float32), 'rho': Array(nan, dtype=float32, weak_type=True), 'scaled_grad_norm_sq': None, 'step': Array(29, dtype=int32)}\n",
      "29 {'batch_size': Array(128, dtype=int32), 'damping': Array(0.07178979, dtype=float32), 'data_seen': Array(3840, dtype=int32), 'learning_rate': Array(0.0380863, dtype=float32), 'loss': Array(0.06235273, dtype=float32), 'momentum': Array(0.9005335, dtype=float32), 'new_loss': Array(0.06232568, dtype=float32, weak_type=True), 'quad_model_change': Array(-2.6706886e-05, dtype=float32), 'rho': Array(1.0129619, dtype=float32, weak_type=True), 'scaled_grad_norm_sq': None, 'step': Array(30, dtype=int32)}\n",
      "30 {'batch_size': Array(128, dtype=int32), 'damping': Array(0.04239115, dtype=float32), 'data_seen': Array(3968, dtype=int32), 'learning_rate': Array(-0.06007712, dtype=float32), 'loss': Array(0.06232568, dtype=float32), 'momentum': Array(1.4619437, dtype=float32), 'new_loss': Array(nan, dtype=float32, weak_type=True), 'quad_model_change': Array(-3.399928e-05, dtype=float32), 'rho': Array(nan, dtype=float32, weak_type=True), 'scaled_grad_norm_sq': None, 'step': Array(31, dtype=int32)}\n",
      "31 {'batch_size': Array(128, dtype=int32), 'damping': Array(0.04239115, dtype=float32), 'data_seen': Array(4096, dtype=int32), 'learning_rate': Array(0.05128049, dtype=float32), 'loss': Array(0.06229135, dtype=float32), 'momentum': Array(0.8759478, dtype=float32), 'new_loss': Array(nan, dtype=float32, weak_type=True), 'quad_model_change': Array(-2.6339558e-05, dtype=float32), 'rho': Array(nan, dtype=float32, weak_type=True), 'scaled_grad_norm_sq': None, 'step': Array(32, dtype=int32)}\n",
      "32 {'batch_size': Array(128, dtype=int32), 'damping': Array(0.04239115, dtype=float32), 'data_seen': Array(4224, dtype=int32), 'learning_rate': Array(0.04787458, dtype=float32), 'loss': Array(0.06226466, dtype=float32), 'momentum': Array(0.88666594, dtype=float32), 'new_loss': Array(nan, dtype=float32, weak_type=True), 'quad_model_change': Array(-2.0920796e-05, dtype=float32), 'rho': Array(nan, dtype=float32, weak_type=True), 'scaled_grad_norm_sq': None, 'step': Array(33, dtype=int32)}\n",
      "33 {'batch_size': Array(128, dtype=int32), 'damping': Array(0.04239115, dtype=float32), 'data_seen': Array(4352, dtype=int32), 'learning_rate': Array(0.04499524, dtype=float32), 'loss': Array(0.06224344, dtype=float32), 'momentum': Array(0.8961501, dtype=float32), 'new_loss': Array(nan, dtype=float32, weak_type=True), 'quad_model_change': Array(-1.6979016e-05, dtype=float32), 'rho': Array(nan, dtype=float32, weak_type=True), 'scaled_grad_norm_sq': None, 'step': Array(34, dtype=int32)}\n",
      "34 {'batch_size': Array(128, dtype=int32), 'damping': Array(0.04239115, dtype=float32), 'data_seen': Array(4480, dtype=int32), 'learning_rate': Array(0.04271453, dtype=float32), 'loss': Array(0.06222628, dtype=float32), 'momentum': Array(0.9048626, dtype=float32), 'new_loss': Array(0.06221198, dtype=float32, weak_type=True), 'quad_model_change': Array(-1.405135e-05, dtype=float32), 'rho': Array(1.0180598, dtype=float32, weak_type=True), 'scaled_grad_norm_sq': None, 'step': Array(35, dtype=int32)}\n",
      "35 {'batch_size': Array(128, dtype=int32), 'damping': Array(0.02503155, dtype=float32), 'data_seen': Array(4608, dtype=int32), 'learning_rate': Array(-0.06639187, dtype=float32), 'loss': Array(0.06221198, dtype=float32), 'momentum': Array(1.4625996, dtype=float32), 'new_loss': Array(nan, dtype=float32, weak_type=True), 'quad_model_change': Array(-1.7956212e-05, dtype=float32), 'rho': Array(nan, dtype=float32, weak_type=True), 'scaled_grad_norm_sq': None, 'step': Array(36, dtype=int32)}\n",
      "36 {'batch_size': Array(128, dtype=int32), 'damping': Array(0.02503155, dtype=float32), 'data_seen': Array(4736, dtype=int32), 'learning_rate': Array(0.05834454, dtype=float32), 'loss': Array(0.06219374, dtype=float32), 'momentum': Array(0.8802953, dtype=float32), 'new_loss': Array(nan, dtype=float32, weak_type=True), 'quad_model_change': Array(-1.4058749e-05, dtype=float32), 'rho': Array(nan, dtype=float32, weak_type=True), 'scaled_grad_norm_sq': None, 'step': Array(37, dtype=int32)}\n",
      "37 {'batch_size': Array(128, dtype=int32), 'damping': Array(0.02503155, dtype=float32), 'data_seen': Array(4864, dtype=int32), 'learning_rate': Array(0.05366774, dtype=float32), 'loss': Array(0.0621792, dtype=float32), 'momentum': Array(0.8890011, dtype=float32), 'new_loss': Array(nan, dtype=float32, weak_type=True), 'quad_model_change': Array(-1.1227582e-05, dtype=float32), 'rho': Array(nan, dtype=float32, weak_type=True), 'scaled_grad_norm_sq': None, 'step': Array(38, dtype=int32)}\n",
      "38 {'batch_size': Array(128, dtype=int32), 'damping': Array(0.02503155, dtype=float32), 'data_seen': Array(4992, dtype=int32), 'learning_rate': Array(0.05101097, dtype=float32), 'loss': Array(0.06216776, dtype=float32), 'momentum': Array(0.89966226, dtype=float32), 'new_loss': Array(nan, dtype=float32, weak_type=True), 'quad_model_change': Array(-9.186279e-06, dtype=float32), 'rho': Array(nan, dtype=float32, weak_type=True), 'scaled_grad_norm_sq': None, 'step': Array(39, dtype=int32)}\n",
      "39 {'batch_size': Array(128, dtype=int32), 'damping': Array(0.02503155, dtype=float32), 'data_seen': Array(5120, dtype=int32), 'learning_rate': Array(0.04835072, dtype=float32), 'loss': Array(0.06215846, dtype=float32), 'momentum': Array(0.907925, dtype=float32), 'new_loss': Array(0.06215059, dtype=float32, weak_type=True), 'quad_model_change': Array(-7.655112e-06, dtype=float32), 'rho': Array(1.0277854, dtype=float32, weak_type=True), 'scaled_grad_norm_sq': None, 'step': Array(40, dtype=int32)}\n",
      "40 {'batch_size': Array(128, dtype=int32), 'damping': Array(0.01478088, dtype=float32), 'data_seen': Array(5248, dtype=int32), 'learning_rate': Array(-0.07376724, dtype=float32), 'loss': Array(0.06215059, dtype=float32), 'momentum': Array(1.455243, dtype=float32), 'new_loss': Array(nan, dtype=float32, weak_type=True), 'quad_model_change': Array(-9.73503e-06, dtype=float32), 'rho': Array(nan, dtype=float32, weak_type=True), 'scaled_grad_norm_sq': None, 'step': Array(41, dtype=int32)}\n",
      "41 {'batch_size': Array(128, dtype=int32), 'damping': Array(0.01478088, dtype=float32), 'data_seen': Array(5376, dtype=int32), 'learning_rate': Array(0.06639376, dtype=float32), 'loss': Array(0.06214058, dtype=float32), 'momentum': Array(0.8838025, dtype=float32), 'new_loss': Array(nan, dtype=float32, weak_type=True), 'quad_model_change': Array(-7.685839e-06, dtype=float32), 'rho': Array(nan, dtype=float32, weak_type=True), 'scaled_grad_norm_sq': None, 'step': Array(42, dtype=int32)}\n",
      "42 {'batch_size': Array(128, dtype=int32), 'damping': Array(0.01478088, dtype=float32), 'data_seen': Array(5504, dtype=int32), 'learning_rate': Array(0.06226511, dtype=float32), 'loss': Array(0.06213271, dtype=float32), 'momentum': Array(0.89432764, dtype=float32), 'new_loss': Array(nan, dtype=float32, weak_type=True), 'quad_model_change': Array(-6.2155623e-06, dtype=float32), 'rho': Array(nan, dtype=float32, weak_type=True), 'scaled_grad_norm_sq': None, 'step': Array(43, dtype=int32)}\n",
      "43 {'batch_size': Array(128, dtype=int32), 'damping': Array(0.01478088, dtype=float32), 'data_seen': Array(5632, dtype=int32), 'learning_rate': Array(0.05697699, dtype=float32), 'loss': Array(0.06212616, dtype=float32), 'momentum': Array(0.9001769, dtype=float32), 'new_loss': Array(nan, dtype=float32, weak_type=True), 'quad_model_change': Array(-5.090479e-06, dtype=float32), 'rho': Array(nan, dtype=float32, weak_type=True), 'scaled_grad_norm_sq': None, 'step': Array(44, dtype=int32)}\n",
      "44 {'batch_size': Array(128, dtype=int32), 'damping': Array(0.01478088, dtype=float32), 'data_seen': Array(5760, dtype=int32), 'learning_rate': Array(0.05454571, dtype=float32), 'loss': Array(0.06212091, dtype=float32), 'momentum': Array(0.90982497, dtype=float32), 'new_loss': Array(0.0621165, dtype=float32, weak_type=True), 'quad_model_change': Array(-4.2596093e-06, dtype=float32), 'rho': Array(1.0354809, dtype=float32, weak_type=True), 'scaled_grad_norm_sq': None, 'step': Array(45, dtype=int32)}\n",
      "45 {'batch_size': Array(128, dtype=int32), 'damping': Array(0.00872796, dtype=float32), 'data_seen': Array(5888, dtype=int32), 'learning_rate': Array(-0.08236279, dtype=float32), 'loss': Array(0.0621165, dtype=float32), 'momentum': Array(1.4397463, dtype=float32), 'new_loss': Array(nan, dtype=float32, weak_type=True), 'quad_model_change': Array(-5.347998e-06, dtype=float32), 'rho': Array(nan, dtype=float32, weak_type=True), 'scaled_grad_norm_sq': None, 'step': Array(46, dtype=int32)}\n",
      "46 {'batch_size': Array(128, dtype=int32), 'damping': Array(0.00872796, dtype=float32), 'data_seen': Array(6016, dtype=int32), 'learning_rate': Array(0.07505406, dtype=float32), 'loss': Array(0.0621109, dtype=float32), 'momentum': Array(0.8875364, dtype=float32), 'new_loss': Array(nan, dtype=float32, weak_type=True), 'quad_model_change': Array(-4.25887e-06, dtype=float32), 'rho': Array(nan, dtype=float32, weak_type=True), 'scaled_grad_norm_sq': None, 'step': Array(47, dtype=int32)}\n",
      "47 {'batch_size': Array(128, dtype=int32), 'damping': Array(0.00872796, dtype=float32), 'data_seen': Array(6144, dtype=int32), 'learning_rate': Array(0.07065643, dtype=float32), 'loss': Array(0.06210649, dtype=float32), 'momentum': Array(0.89814776, dtype=float32), 'new_loss': Array(nan, dtype=float32, weak_type=True), 'quad_model_change': Array(-3.4741968e-06, dtype=float32), 'rho': Array(nan, dtype=float32, weak_type=True), 'scaled_grad_norm_sq': None, 'step': Array(48, dtype=int32)}\n",
      "48 {'batch_size': Array(128, dtype=int32), 'damping': Array(0.00872796, dtype=float32), 'data_seen': Array(6272, dtype=int32), 'learning_rate': Array(0.06327336, dtype=float32), 'loss': Array(0.06210267, dtype=float32), 'momentum': Array(0.90111625, dtype=float32), 'new_loss': Array(nan, dtype=float32, weak_type=True), 'quad_model_change': Array(-2.8505183e-06, dtype=float32), 'rho': Array(nan, dtype=float32, weak_type=True), 'scaled_grad_norm_sq': None, 'step': Array(49, dtype=int32)}\n",
      "49 {'batch_size': Array(128, dtype=int32), 'damping': Array(0.00872796, dtype=float32), 'data_seen': Array(6400, dtype=int32), 'learning_rate': Array(0.05978591, dtype=float32), 'loss': Array(0.06209957, dtype=float32), 'momentum': Array(0.9096576, dtype=float32), 'new_loss': Array(0.06209719, dtype=float32, weak_type=True), 'quad_model_change': Array(-2.383218e-06, dtype=float32), 'rho': Array(1.000406, dtype=float32, weak_type=True), 'scaled_grad_norm_sq': None, 'step': Array(50, dtype=int32)}\n",
      "50 {'batch_size': Array(128, dtype=int32), 'damping': Array(0.00515377, dtype=float32), 'data_seen': Array(6528, dtype=int32), 'learning_rate': Array(-0.09095558, dtype=float32), 'loss': Array(0.06209719, dtype=float32), 'momentum': Array(1.418537, dtype=float32), 'new_loss': Array(nan, dtype=float32, weak_type=True), 'quad_model_change': Array(-2.9456664e-06, dtype=float32), 'rho': Array(nan, dtype=float32, weak_type=True), 'scaled_grad_norm_sq': None, 'step': Array(51, dtype=int32)}\n",
      "51 {'batch_size': Array(128, dtype=int32), 'damping': Array(0.00515377, dtype=float32), 'data_seen': Array(6656, dtype=int32), 'learning_rate': Array(0.08240505, dtype=float32), 'loss': Array(0.06209397, dtype=float32), 'momentum': Array(0.8906922, dtype=float32), 'new_loss': Array(nan, dtype=float32, weak_type=True), 'quad_model_change': Array(-2.362031e-06, dtype=float32), 'rho': Array(nan, dtype=float32, weak_type=True), 'scaled_grad_norm_sq': None, 'step': Array(52, dtype=int32)}\n",
      "52 {'batch_size': Array(128, dtype=int32), 'damping': Array(0.00515377, dtype=float32), 'data_seen': Array(6784, dtype=int32), 'learning_rate': Array(0.07851326, dtype=float32), 'loss': Array(0.06209147, dtype=float32), 'momentum': Array(0.90258056, dtype=float32), 'new_loss': Array(nan, dtype=float32, weak_type=True), 'quad_model_change': Array(-1.9457746e-06, dtype=float32), 'rho': Array(nan, dtype=float32, weak_type=True), 'scaled_grad_norm_sq': None, 'step': Array(53, dtype=int32)}\n",
      "53 {'batch_size': Array(128, dtype=int32), 'damping': Array(0.00515377, dtype=float32), 'data_seen': Array(6912, dtype=int32), 'learning_rate': Array(0.07452054, dtype=float32), 'loss': Array(0.06208944, dtype=float32), 'momentum': Array(0.91129065, dtype=float32), 'new_loss': Array(nan, dtype=float32, weak_type=True), 'quad_model_change': Array(-1.6340698e-06, dtype=float32), 'rho': Array(nan, dtype=float32, weak_type=True), 'scaled_grad_norm_sq': None, 'step': Array(54, dtype=int32)}\n",
      "54 {'batch_size': Array(128, dtype=int32), 'damping': Array(0.00515377, dtype=float32), 'data_seen': Array(7040, dtype=int32), 'learning_rate': Array(0.06783921, dtype=float32), 'loss': Array(0.06208765, dtype=float32), 'momentum': Array(0.9138193, dtype=float32), 'new_loss': Array(0.0620861, dtype=float32, weak_type=True), 'quad_model_change': Array(-1.3788946e-06, dtype=float32), 'rho': Array(1.1238863, dtype=float32, weak_type=True), 'scaled_grad_norm_sq': None, 'step': Array(55, dtype=int32)}\n",
      "55 {'batch_size': Array(128, dtype=int32), 'damping': Array(0.00304325, dtype=float32), 'data_seen': Array(7168, dtype=int32), 'learning_rate': Array(-0.10723291, dtype=float32), 'loss': Array(0.0620861, dtype=float32), 'momentum': Array(1.3675785, dtype=float32), 'new_loss': Array(nan, dtype=float32, weak_type=True), 'quad_model_change': Array(-1.6161831e-06, dtype=float32), 'rho': Array(nan, dtype=float32, weak_type=True), 'scaled_grad_norm_sq': None, 'step': Array(56, dtype=int32)}\n",
      "56 {'batch_size': Array(128, dtype=int32), 'damping': Array(0.00304325, dtype=float32), 'data_seen': Array(7296, dtype=int32), 'learning_rate': Array(0.09070925, dtype=float32), 'loss': Array(0.06208431, dtype=float32), 'momentum': Array(0.8991771, dtype=float32), 'new_loss': Array(nan, dtype=float32, weak_type=True), 'quad_model_change': Array(-1.3211148e-06, dtype=float32), 'rho': Array(nan, dtype=float32, weak_type=True), 'scaled_grad_norm_sq': None, 'step': Array(57, dtype=int32)}\n",
      "57 {'batch_size': Array(128, dtype=int32), 'damping': Array(0.00304325, dtype=float32), 'data_seen': Array(7424, dtype=int32), 'learning_rate': Array(0.09111849, dtype=float32), 'loss': Array(0.062083, dtype=float32), 'momentum': Array(0.9154036, dtype=float32), 'new_loss': Array(nan, dtype=float32, weak_type=True), 'quad_model_change': Array(-1.120602e-06, dtype=float32), 'rho': Array(nan, dtype=float32, weak_type=True), 'scaled_grad_norm_sq': None, 'step': Array(58, dtype=int32)}\n",
      "58 {'batch_size': Array(128, dtype=int32), 'damping': Array(0.00304325, dtype=float32), 'data_seen': Array(7552, dtype=int32), 'learning_rate': Array(0.06639993, dtype=float32), 'loss': Array(0.06208145, dtype=float32), 'momentum': Array(0.8942096, dtype=float32), 'new_loss': Array(nan, dtype=float32, weak_type=True), 'quad_model_change': Array(-9.033227e-07, dtype=float32), 'rho': Array(nan, dtype=float32, weak_type=True), 'scaled_grad_norm_sq': None, 'step': Array(59, dtype=int32)}\n",
      "59 {'batch_size': Array(128, dtype=int32), 'damping': Array(0.00304325, dtype=float32), 'data_seen': Array(7680, dtype=int32), 'learning_rate': Array(0.07602073, dtype=float32), 'loss': Array(0.0620805, dtype=float32), 'momentum': Array(0.92386365, dtype=float32), 'new_loss': Array(0.06207966, dtype=float32, weak_type=True), 'quad_model_change': Array(-7.793359e-07, dtype=float32), 'rho': Array(1.0707386, dtype=float32, weak_type=True), 'scaled_grad_norm_sq': None, 'step': Array(60, dtype=int32)}\n",
      "60 {'batch_size': Array(128, dtype=int32), 'damping': Array(0.00179701, dtype=float32), 'data_seen': Array(7808, dtype=int32), 'learning_rate': Array(-0.11759843, dtype=float32), 'loss': Array(0.06207966, dtype=float32), 'momentum': Array(1.3221734, dtype=float32), 'new_loss': Array(nan, dtype=float32, weak_type=True), 'quad_model_change': Array(-8.813373e-07, dtype=float32), 'rho': Array(nan, dtype=float32, weak_type=True), 'scaled_grad_norm_sq': None, 'step': Array(61, dtype=int32)}\n",
      "61 {'batch_size': Array(128, dtype=int32), 'damping': Array(0.00179701, dtype=float32), 'data_seen': Array(7936, dtype=int32), 'learning_rate': Array(0.09101414, dtype=float32), 'loss': Array(0.06207859, dtype=float32), 'momentum': Array(0.9031834, dtype=float32), 'new_loss': Array(nan, dtype=float32, weak_type=True), 'quad_model_change': Array(-7.263117e-07, dtype=float32), 'rho': Array(nan, dtype=float32, weak_type=True), 'scaled_grad_norm_sq': None, 'step': Array(62, dtype=int32)}\n",
      "62 {'batch_size': Array(128, dtype=int32), 'damping': Array(0.00179701, dtype=float32), 'data_seen': Array(8064, dtype=int32), 'learning_rate': Array(0.08038925, dtype=float32), 'loss': Array(0.06207764, dtype=float32), 'momentum': Array(0.90456474, dtype=float32), 'new_loss': Array(nan, dtype=float32, weak_type=True), 'quad_model_change': Array(-5.9980545e-07, dtype=float32), 'rho': Array(nan, dtype=float32, weak_type=True), 'scaled_grad_norm_sq': None, 'step': Array(63, dtype=int32)}\n",
      "63 {'batch_size': Array(128, dtype=int32), 'damping': Array(0.00179701, dtype=float32), 'data_seen': Array(8192, dtype=int32), 'learning_rate': Array(0.08043022, dtype=float32), 'loss': Array(0.06207692, dtype=float32), 'momentum': Array(0.91913885, dtype=float32), 'new_loss': Array(nan, dtype=float32, weak_type=True), 'quad_model_change': Array(-5.118227e-07, dtype=float32), 'rho': Array(nan, dtype=float32, weak_type=True), 'scaled_grad_norm_sq': None, 'step': Array(64, dtype=int32)}\n",
      "64 {'batch_size': Array(128, dtype=int32), 'damping': Array(0.00179701, dtype=float32), 'data_seen': Array(8320, dtype=int32), 'learning_rate': Array(0.08658589, dtype=float32), 'loss': Array(0.06207645, dtype=float32), 'momentum': Array(0.938553, dtype=float32), 'new_loss': Array(0.06207561, dtype=float32, weak_type=True), 'quad_model_change': Array(-4.5615644e-07, dtype=float32), 'rho': Array(1.8293395, dtype=float32, weak_type=True), 'scaled_grad_norm_sq': None, 'step': Array(65, dtype=int32)}\n",
      "65 {'batch_size': Array(128, dtype=int32), 'damping': Array(0.00106112, dtype=float32), 'data_seen': Array(8448, dtype=int32), 'learning_rate': Array(-0.15911113, dtype=float32), 'loss': Array(0.06207561, dtype=float32), 'momentum': Array(1.2077346, dtype=float32), 'new_loss': Array(nan, dtype=float32, weak_type=True), 'quad_model_change': Array(-4.4733645e-07, dtype=float32), 'rho': Array(nan, dtype=float32, weak_type=True), 'scaled_grad_norm_sq': None, 'step': Array(66, dtype=int32)}\n",
      "66 {'batch_size': Array(128, dtype=int32), 'damping': Array(0.00106112, dtype=float32), 'data_seen': Array(8576, dtype=int32), 'learning_rate': Array(0.09642754, dtype=float32), 'loss': Array(0.06207513, dtype=float32), 'momentum': Array(0.92868185, dtype=float32), 'new_loss': Array(nan, dtype=float32, weak_type=True), 'quad_model_change': Array(-3.901733e-07, dtype=float32), 'rho': Array(nan, dtype=float32, weak_type=True), 'scaled_grad_norm_sq': None, 'step': Array(67, dtype=int32)}\n",
      "67 {'batch_size': Array(128, dtype=int32), 'damping': Array(0.00106112, dtype=float32), 'data_seen': Array(8704, dtype=int32), 'learning_rate': Array(0.08612505, dtype=float32), 'loss': Array(0.06207466, dtype=float32), 'momentum': Array(0.92427033, dtype=float32), 'new_loss': Array(nan, dtype=float32, weak_type=True), 'quad_model_change': Array(-3.367107e-07, dtype=float32), 'rho': Array(nan, dtype=float32, weak_type=True), 'scaled_grad_norm_sq': None, 'step': Array(68, dtype=int32)}\n",
      "68 {'batch_size': Array(128, dtype=int32), 'damping': Array(0.00106112, dtype=float32), 'data_seen': Array(8832, dtype=int32), 'learning_rate': Array(0.08800152, dtype=float32), 'loss': Array(0.0620743, dtype=float32), 'momentum': Array(0.936733, dtype=float32), 'new_loss': Array(nan, dtype=float32, weak_type=True), 'quad_model_change': Array(-2.9872808e-07, dtype=float32), 'rho': Array(nan, dtype=float32, weak_type=True), 'scaled_grad_norm_sq': None, 'step': Array(69, dtype=int32)}\n",
      "69 {'batch_size': Array(128, dtype=int32), 'damping': Array(0.00106112, dtype=float32), 'data_seen': Array(8960, dtype=int32), 'learning_rate': Array(0.06439757, dtype=float32), 'loss': Array(0.06207382, dtype=float32), 'momentum': Array(0.9150517, dtype=float32), 'new_loss': Array(0.06207347, dtype=float32, weak_type=True), 'quad_model_change': Array(-2.5199773e-07, dtype=float32), 'rho': Array(1.419171, dtype=float32, weak_type=True), 'scaled_grad_norm_sq': None, 'step': Array(70, dtype=int32)}\n",
      "70 {'batch_size': Array(128, dtype=int32), 'damping': Array(0.00062658, dtype=float32), 'data_seen': Array(9088, dtype=int32), 'learning_rate': Array(-0.14402881, dtype=float32), 'loss': Array(0.06207347, dtype=float32), 'momentum': Array(1.1784414, dtype=float32), 'new_loss': Array(nan, dtype=float32, weak_type=True), 'quad_model_change': Array(-2.4976472e-07, dtype=float32), 'rho': Array(nan, dtype=float32, weak_type=True), 'scaled_grad_norm_sq': None, 'step': Array(71, dtype=int32)}\n",
      "71 {'batch_size': Array(128, dtype=int32), 'damping': Array(0.00062658, dtype=float32), 'data_seen': Array(9216, dtype=int32), 'learning_rate': Array(0.09848735, dtype=float32), 'loss': Array(0.06207323, dtype=float32), 'momentum': Array(0.94520205, dtype=float32), 'new_loss': Array(nan, dtype=float32, weak_type=True), 'quad_model_change': Array(-2.2588422e-07, dtype=float32), 'rho': Array(nan, dtype=float32, weak_type=True), 'scaled_grad_norm_sq': None, 'step': Array(72, dtype=int32)}\n",
      "72 {'batch_size': Array(128, dtype=int32), 'damping': Array(0.00062658, dtype=float32), 'data_seen': Array(9344, dtype=int32), 'learning_rate': Array(0.07230233, dtype=float32), 'loss': Array(0.06207287, dtype=float32), 'momentum': Array(0.9201846, dtype=float32), 'new_loss': Array(nan, dtype=float32, weak_type=True), 'quad_model_change': Array(-1.9284792e-07, dtype=float32), 'rho': Array(nan, dtype=float32, weak_type=True), 'scaled_grad_norm_sq': None, 'step': Array(73, dtype=int32)}\n",
      "73 {'batch_size': Array(128, dtype=int32), 'damping': Array(0.00062658, dtype=float32), 'data_seen': Array(9472, dtype=int32), 'learning_rate': Array(0.06007166, dtype=float32), 'loss': Array(0.06207251, dtype=float32), 'momentum': Array(0.91464806, dtype=float32), 'new_loss': Array(nan, dtype=float32, weak_type=True), 'quad_model_change': Array(-1.6241181e-07, dtype=float32), 'rho': Array(nan, dtype=float32, weak_type=True), 'scaled_grad_norm_sq': None, 'step': Array(74, dtype=int32)}\n",
      "74 {'batch_size': Array(128, dtype=int32), 'damping': Array(0.00062658, dtype=float32), 'data_seen': Array(9600, dtype=int32), 'learning_rate': Array(0.0887386, dtype=float32), 'loss': Array(0.06207239, dtype=float32), 'momentum': Array(0.9625717, dtype=float32), 'new_loss': Array(0.06207215, dtype=float32, weak_type=True), 'quad_model_change': Array(-1.5228268e-07, dtype=float32), 'rho': Array(1.5656316, dtype=float32, weak_type=True), 'scaled_grad_norm_sq': None, 'step': Array(75, dtype=int32)}\n",
      "75 {'batch_size': Array(128, dtype=int32), 'damping': Array(0.00036999, dtype=float32), 'data_seen': Array(9728, dtype=int32), 'learning_rate': Array(-0.1354865, dtype=float32), 'loss': Array(0.06207215, dtype=float32), 'momentum': Array(1.1157547, dtype=float32), 'new_loss': Array(nan, dtype=float32, weak_type=True), 'quad_model_change': Array(-1.4438861e-07, dtype=float32), 'rho': Array(nan, dtype=float32, weak_type=True), 'scaled_grad_norm_sq': None, 'step': Array(76, dtype=int32)}\n",
      "76 {'batch_size': Array(128, dtype=int32), 'damping': Array(0.00036999, dtype=float32), 'data_seen': Array(9856, dtype=int32), 'learning_rate': Array(0.06941929, dtype=float32), 'loss': Array(0.06207192, dtype=float32), 'momentum': Array(0.9291591, dtype=float32), 'new_loss': Array(nan, dtype=float32, weak_type=True), 'quad_model_change': Array(-1.2571128e-07, dtype=float32), 'rho': Array(nan, dtype=float32, weak_type=True), 'scaled_grad_norm_sq': None, 'step': Array(77, dtype=int32)}\n",
      "77 {'batch_size': Array(128, dtype=int32), 'damping': Array(0.00036999, dtype=float32), 'data_seen': Array(9984, dtype=int32), 'learning_rate': Array(0.05946293, dtype=float32), 'loss': Array(0.06207168, dtype=float32), 'momentum': Array(0.9250884, dtype=float32), 'new_loss': Array(nan, dtype=float32, weak_type=True), 'quad_model_change': Array(-1.0834935e-07, dtype=float32), 'rho': Array(nan, dtype=float32, weak_type=True), 'scaled_grad_norm_sq': None, 'step': Array(78, dtype=int32)}\n",
      "78 {'batch_size': Array(128, dtype=int32), 'damping': Array(0.00036999, dtype=float32), 'data_seen': Array(10112, dtype=int32), 'learning_rate': Array(0.10714336, dtype=float32), 'loss': Array(0.06207168, dtype=float32), 'momentum': Array(0.98939455, dtype=float32), 'new_loss': Array(nan, dtype=float32, weak_type=True), 'quad_model_change': Array(-1.07739766e-07, dtype=float32), 'rho': Array(nan, dtype=float32, weak_type=True), 'scaled_grad_norm_sq': None, 'step': Array(79, dtype=int32)}\n",
      "79 {'batch_size': Array(128, dtype=int32), 'damping': Array(0.00036999, dtype=float32), 'data_seen': Array(10240, dtype=int32), 'learning_rate': Array(0.01627009, dtype=float32), 'loss': Array(0.06207132, dtype=float32), 'momentum': Array(0.8854172, dtype=float32), 'new_loss': Array(0.06207132, dtype=float32, weak_type=True), 'quad_model_change': Array(-8.448343e-08, dtype=float32), 'rho': Array(-0., dtype=float32, weak_type=True), 'scaled_grad_norm_sq': None, 'step': Array(80, dtype=int32)}\n",
      "80 {'batch_size': Array(128, dtype=int32), 'damping': Array(0.00062658, dtype=float32), 'data_seen': Array(10368, dtype=int32), 'learning_rate': Array(-0.01614171, dtype=float32), 'loss': Array(0.06207132, dtype=float32), 'momentum': Array(0.8489287, dtype=float32), 'new_loss': Array(nan, dtype=float32, weak_type=True), 'quad_model_change': Array(-7.769988e-08, dtype=float32), 'rho': Array(nan, dtype=float32, weak_type=True), 'scaled_grad_norm_sq': None, 'step': Array(81, dtype=int32)}\n",
      "81 {'batch_size': Array(128, dtype=int32), 'damping': Array(0.00062658, dtype=float32), 'data_seen': Array(10496, dtype=int32), 'learning_rate': Array(-0.00561064, dtype=float32), 'loss': Array(0.06207096, dtype=float32), 'momentum': Array(0.87194705, dtype=float32), 'new_loss': Array(nan, dtype=float32, weak_type=True), 'quad_model_change': Array(-5.8925835e-08, dtype=float32), 'rho': Array(nan, dtype=float32, weak_type=True), 'scaled_grad_norm_sq': None, 'step': Array(82, dtype=int32)}\n",
      "82 {'batch_size': Array(128, dtype=int32), 'damping': Array(0.00062658, dtype=float32), 'data_seen': Array(10624, dtype=int32), 'learning_rate': Array(0.03740882, dtype=float32), 'loss': Array(0.06207084, dtype=float32), 'momentum': Array(0.94587165, dtype=float32), 'new_loss': Array(nan, dtype=float32, weak_type=True), 'quad_model_change': Array(-5.3074924e-08, dtype=float32), 'rho': Array(nan, dtype=float32, weak_type=True), 'scaled_grad_norm_sq': None, 'step': Array(83, dtype=int32)}\n",
      "83 {'batch_size': Array(128, dtype=int32), 'damping': Array(0.00062658, dtype=float32), 'data_seen': Array(10752, dtype=int32), 'learning_rate': Array(0.04929001, dtype=float32), 'loss': Array(0.06207084, dtype=float32), 'momentum': Array(0.993001, dtype=float32), 'new_loss': Array(nan, dtype=float32, weak_type=True), 'quad_model_change': Array(-5.2824532e-08, dtype=float32), 'rho': Array(nan, dtype=float32, weak_type=True), 'scaled_grad_norm_sq': None, 'step': Array(84, dtype=int32)}\n",
      "84 {'batch_size': Array(128, dtype=int32), 'damping': Array(0.00062658, dtype=float32), 'data_seen': Array(10880, dtype=int32), 'learning_rate': Array(0.05504288, dtype=float32), 'loss': Array(0.06207084, dtype=float32), 'momentum': Array(0.9924418, dtype=float32), 'new_loss': Array(0.06207084, dtype=float32, weak_type=True), 'quad_model_change': Array(-5.2582344e-08, dtype=float32), 'rho': Array(-0., dtype=float32, weak_type=True), 'scaled_grad_norm_sq': None, 'step': Array(85, dtype=int32)}\n",
      "85 {'batch_size': Array(128, dtype=int32), 'damping': Array(0.00106112, dtype=float32), 'data_seen': Array(11008, dtype=int32), 'learning_rate': Array(0.0964641, dtype=float32), 'loss': Array(0.06207084, dtype=float32), 'momentum': Array(0.7834334, dtype=float32), 'new_loss': Array(nan, dtype=float32, weak_type=True), 'quad_model_change': Array(-4.552893e-08, dtype=float32), 'rho': Array(nan, dtype=float32, weak_type=True), 'scaled_grad_norm_sq': None, 'step': Array(86, dtype=int32)}\n",
      "86 {'batch_size': Array(128, dtype=int32), 'damping': Array(0.00106112, dtype=float32), 'data_seen': Array(11136, dtype=int32), 'learning_rate': Array(0.04759755, dtype=float32), 'loss': Array(0.06207084, dtype=float32), 'momentum': Array(0.99206364, dtype=float32), 'new_loss': Array(nan, dtype=float32, weak_type=True), 'quad_model_change': Array(-4.5362917e-08, dtype=float32), 'rho': Array(nan, dtype=float32, weak_type=True), 'scaled_grad_norm_sq': None, 'step': Array(87, dtype=int32)}\n",
      "87 {'batch_size': Array(128, dtype=int32), 'damping': Array(0.00106112, dtype=float32), 'data_seen': Array(11264, dtype=int32), 'learning_rate': Array(0.05015242, dtype=float32), 'loss': Array(0.06207084, dtype=float32), 'momentum': Array(0.9917485, dtype=float32), 'new_loss': Array(nan, dtype=float32, weak_type=True), 'quad_model_change': Array(-4.520155e-08, dtype=float32), 'rho': Array(nan, dtype=float32, weak_type=True), 'scaled_grad_norm_sq': None, 'step': Array(88, dtype=int32)}\n",
      "88 {'batch_size': Array(128, dtype=int32), 'damping': Array(0.00106112, dtype=float32), 'data_seen': Array(11392, dtype=int32), 'learning_rate': Array(0.00964863, dtype=float32), 'loss': Array(0.06207072, dtype=float32), 'momentum': Array(0.9454387, dtype=float32), 'new_loss': Array(nan, dtype=float32, weak_type=True), 'quad_model_change': Array(-4.0488146e-08, dtype=float32), 'rho': Array(nan, dtype=float32, weak_type=True), 'scaled_grad_norm_sq': None, 'step': Array(89, dtype=int32)}\n",
      "89 {'batch_size': Array(128, dtype=int32), 'damping': Array(0.00106112, dtype=float32), 'data_seen': Array(11520, dtype=int32), 'learning_rate': Array(0.04757009, dtype=float32), 'loss': Array(0.06207072, dtype=float32), 'momentum': Array(0.99214584, dtype=float32), 'new_loss': Array(0.0620706, dtype=float32, weak_type=True), 'quad_model_change': Array(-4.0349992e-08, dtype=float32), 'rho': Array(2.954382, dtype=float32, weak_type=True), 'scaled_grad_norm_sq': None, 'step': Array(90, dtype=int32)}\n",
      "90 {'batch_size': Array(128, dtype=int32), 'damping': Array(0.00062658, dtype=float32), 'data_seen': Array(11648, dtype=int32), 'learning_rate': Array(-0.10009181, dtype=float32), 'loss': Array(0.0620706, dtype=float32), 'momentum': Array(1.204129, dtype=float32), 'new_loss': Array(nan, dtype=float32, weak_type=True), 'quad_model_change': Array(-4.134008e-08, dtype=float32), 'rho': Array(nan, dtype=float32, weak_type=True), 'scaled_grad_norm_sq': None, 'step': Array(91, dtype=int32)}\n",
      "91 {'batch_size': Array(128, dtype=int32), 'damping': Array(0.00062658, dtype=float32), 'data_seen': Array(11776, dtype=int32), 'learning_rate': Array(0.05640543, dtype=float32), 'loss': Array(0.0620706, dtype=float32), 'momentum': Array(0.9908067, dtype=float32), 'new_loss': Array(nan, dtype=float32, weak_type=True), 'quad_model_change': Array(-4.1176982e-08, dtype=float32), 'rho': Array(nan, dtype=float32, weak_type=True), 'scaled_grad_norm_sq': None, 'step': Array(92, dtype=int32)}\n",
      "92 {'batch_size': Array(128, dtype=int32), 'damping': Array(0.00062658, dtype=float32), 'data_seen': Array(11904, dtype=int32), 'learning_rate': Array(0.01114645, dtype=float32), 'loss': Array(0.06207049, dtype=float32), 'momentum': Array(0.93869245, dtype=float32), 'new_loss': Array(nan, dtype=float32, weak_type=True), 'quad_model_change': Array(-3.636665e-08, dtype=float32), 'rho': Array(nan, dtype=float32, weak_type=True), 'scaled_grad_norm_sq': None, 'step': Array(93, dtype=int32)}\n",
      "93 {'batch_size': Array(128, dtype=int32), 'damping': Array(0.00062658, dtype=float32), 'data_seen': Array(12032, dtype=int32), 'learning_rate': Array(-0.01445289, dtype=float32), 'loss': Array(0.06207025, dtype=float32), 'momentum': Array(0.87599266, dtype=float32), 'new_loss': Array(nan, dtype=float32, weak_type=True), 'quad_model_change': Array(-2.7781592e-08, dtype=float32), 'rho': Array(nan, dtype=float32, weak_type=True), 'scaled_grad_norm_sq': None, 'step': Array(94, dtype=int32)}\n",
      "94 {'batch_size': Array(128, dtype=int32), 'damping': Array(0.00062658, dtype=float32), 'data_seen': Array(12160, dtype=int32), 'learning_rate': Array(0.03487939, dtype=float32), 'loss': Array(0.06207025, dtype=float32), 'momentum': Array(0.9937489, dtype=float32), 'new_loss': Array(0.06207025, dtype=float32, weak_type=True), 'quad_model_change': Array(-2.767768e-08, dtype=float32), 'rho': Array(-0., dtype=float32, weak_type=True), 'scaled_grad_norm_sq': None, 'step': Array(95, dtype=int32)}\n",
      "95 {'batch_size': Array(128, dtype=int32), 'damping': Array(0.00106112, dtype=float32), 'data_seen': Array(12288, dtype=int32), 'learning_rate': Array(0.2598166, dtype=float32), 'loss': Array(0.06207025, dtype=float32), 'momentum': Array(0.75798064, dtype=float32), 'new_loss': Array(nan, dtype=float32, weak_type=True), 'quad_model_change': Array(-2.3952134e-08, dtype=float32), 'rho': Array(nan, dtype=float32, weak_type=True), 'scaled_grad_norm_sq': None, 'step': Array(96, dtype=int32)}\n",
      "96 {'batch_size': Array(128, dtype=int32), 'damping': Array(0.00106112, dtype=float32), 'data_seen': Array(12416, dtype=int32), 'learning_rate': Array(0.03126616, dtype=float32), 'loss': Array(0.06207025, dtype=float32), 'momentum': Array(0.993402, dtype=float32), 'new_loss': Array(nan, dtype=float32, weak_type=True), 'quad_model_change': Array(-2.3882242e-08, dtype=float32), 'rho': Array(nan, dtype=float32, weak_type=True), 'scaled_grad_norm_sq': None, 'step': Array(97, dtype=int32)}\n",
      "97 {'batch_size': Array(128, dtype=int32), 'damping': Array(0.00106112, dtype=float32), 'data_seen': Array(12544, dtype=int32), 'learning_rate': Array(0.03312621, dtype=float32), 'loss': Array(0.06207025, dtype=float32), 'momentum': Array(0.9931055, dtype=float32), 'new_loss': Array(nan, dtype=float32, weak_type=True), 'quad_model_change': Array(-2.3813763e-08, dtype=float32), 'rho': Array(nan, dtype=float32, weak_type=True), 'scaled_grad_norm_sq': None, 'step': Array(98, dtype=int32)}\n",
      "98 {'batch_size': Array(128, dtype=int32), 'damping': Array(0.00106112, dtype=float32), 'data_seen': Array(12672, dtype=int32), 'learning_rate': Array(0.03485546, dtype=float32), 'loss': Array(0.06207025, dtype=float32), 'momentum': Array(0.99283063, dtype=float32), 'new_loss': Array(nan, dtype=float32, weak_type=True), 'quad_model_change': Array(-2.3746718e-08, dtype=float32), 'rho': Array(nan, dtype=float32, weak_type=True), 'scaled_grad_norm_sq': None, 'step': Array(99, dtype=int32)}\n"
     ]
    }
   ],
   "source": [
    "import haiku as hk\n",
    "import jax\n",
    "import jax.numpy as jnp\n",
    "import kfac_jax\n",
    "\n",
    "import logging\n",
    "\n",
    "# Configure logging to show debug messages\n",
    "# logging.basicConfig(level=logging.DEBUG, force=True)\n",
    "# logging.disable(logging.CRITICAL)\n",
    "\n",
    "# Hyper parameters\n",
    "NUM_CLASSES = 10\n",
    "L2_REG = 1e-3\n",
    "NUM_BATCHES = 100\n",
    "\n",
    "\n",
    "def make_dataset_iterator(batch_size):\n",
    "  # Dummy dataset, in practice this should be your dataset pipeline\n",
    "  for _ in range(NUM_BATCHES):\n",
    "    yield jnp.zeros([batch_size, 100]), jnp.ones([batch_size], dtype=\"int32\")\n",
    "\n",
    "\n",
    "def softmax_cross_entropy(logits: jnp.ndarray, targets: jnp.ndarray):\n",
    "  \"\"\"Softmax cross entropy loss.\"\"\"\n",
    "  # We assume integer labels\n",
    "  assert logits.ndim == targets.ndim + 1\n",
    "\n",
    "  # Tell KFAC-JAX this model represents a classifier\n",
    "  # See https://kfac-jax.readthedocs.io/en/latest/overview.html#supported-losses\n",
    "  kfac_jax.register_softmax_cross_entropy_loss(logits, targets)\n",
    "  log_p = jax.nn.log_softmax(logits, axis=-1)\n",
    "  return - jax.vmap(lambda x, y: x[y])(log_p, targets)\n",
    "\n",
    "\n",
    "def model_fn(x):\n",
    "  \"\"\"A Haiku MLP model function - three hidden layer network with tanh.\"\"\"\n",
    "  return hk.nets.MLP(\n",
    "    output_sizes=(50, 50, 50, NUM_CLASSES),\n",
    "    with_bias=True,\n",
    "    activation=jax.nn.tanh,\n",
    "  )(x)\n",
    "\n",
    "\n",
    "# The Haiku transformed model\n",
    "hk_model = hk.without_apply_rng(hk.transform(model_fn))\n",
    "\n",
    "\n",
    "def loss_fn(model_params, model_batch):\n",
    "  \"\"\"The loss function to optimize.\"\"\"\n",
    "  x, y = model_batch\n",
    "  logits = hk_model.apply(model_params, x)\n",
    "  loss = jnp.mean(softmax_cross_entropy(logits, y))\n",
    "\n",
    "  # The optimizer assumes that the function you provide has already added\n",
    "  # the L2 regularizer to its gradients.\n",
    "  return loss + L2_REG * kfac_jax.utils.inner_product(params, params) / 2.0\n",
    "\n",
    "\n",
    "# Create the optimizer\n",
    "optimizer = kfac_jax.Optimizer(\n",
    "  value_and_grad_func=jax.value_and_grad(loss_fn),\n",
    "  l2_reg=L2_REG,\n",
    "  value_func_has_aux=False,\n",
    "  value_func_has_state=False,\n",
    "  value_func_has_rng=False,\n",
    "  use_adaptive_learning_rate=True,\n",
    "  use_adaptive_momentum=True,\n",
    "  use_adaptive_damping=True,\n",
    "  initial_damping=1.0,\n",
    "  multi_device=False,\n",
    ")\n",
    "\n",
    "input_dataset = make_dataset_iterator(128)\n",
    "rng = jax.random.PRNGKey(42)\n",
    "dummy_images, dummy_labels = next(input_dataset)\n",
    "rng, key = jax.random.split(rng)\n",
    "params = hk_model.init(key, dummy_images)\n",
    "rng, key = jax.random.split(rng)\n",
    "opt_state = optimizer.init(params, key, (dummy_images, dummy_labels))\n",
    "\n",
    "# Training loop\n",
    "for i, batch in enumerate(input_dataset):\n",
    "  rng, key = jax.random.split(rng)\n",
    "  params, opt_state, stats = optimizer.step(\n",
    "      params, opt_state, key, batch=batch, global_step_int=i)\n",
    "  print(i, stats)"
   ]
  },
  {
   "cell_type": "code",
   "execution_count": 11,
   "id": "c532c149-7c0f-47e2-a410-1849fa1a2972",
   "metadata": {},
   "outputs": [],
   "source": [
    "rng = jax.random.PRNGKey(42)"
   ]
  },
  {
   "cell_type": "code",
   "execution_count": 13,
   "id": "8f8e1d6f-0b3c-459e-9332-28e8b7ddcfeb",
   "metadata": {},
   "outputs": [
    {
     "data": {
      "text/plain": [
       "Array([ 0, 42], dtype=uint32)"
      ]
     },
     "execution_count": 13,
     "metadata": {},
     "output_type": "execute_result"
    }
   ],
   "source": [
    "rng"
   ]
  },
  {
   "cell_type": "code",
   "execution_count": 14,
   "id": "69cfb4b1-8a24-4c7c-8909-b2272ca4c093",
   "metadata": {},
   "outputs": [
    {
     "data": {
      "text/plain": [
       "Array([[2465931498, 3679230171],\n",
       "       [ 255383827,  267815257]], dtype=uint32)"
      ]
     },
     "execution_count": 14,
     "metadata": {},
     "output_type": "execute_result"
    }
   ],
   "source": [
    "jax.random.split(rng)"
   ]
  },
  {
   "cell_type": "markdown",
   "id": "dce7aba6-55c8-4e6f-a331-e8782ecaeb4b",
   "metadata": {},
   "source": [
    "# Going towards ferminet"
   ]
  },
  {
   "cell_type": "code",
   "execution_count": 14,
   "id": "3381aeb6-30e7-4bff-9116-4bbd01a698a9",
   "metadata": {},
   "outputs": [
    {
     "data": {
      "text/plain": [
       "4"
      ]
     },
     "execution_count": 14,
     "metadata": {},
     "output_type": "execute_result"
    }
   ],
   "source": [
    "2+2"
   ]
  },
  {
   "cell_type": "code",
   "execution_count": 15,
   "id": "b1ddf670-06cc-4dde-94d3-b7619a744749",
   "metadata": {},
   "outputs": [
    {
     "data": {
      "text/plain": [
       "<pyscf.gto.mole.Mole at 0x123fefd90>"
      ]
     },
     "execution_count": 15,
     "metadata": {},
     "output_type": "execute_result"
    }
   ],
   "source": [
    "from pyscf import gto\n",
    "mol = gto.Mole()\n",
    "mol.build(\n",
    "    atom = 'H  0 0 1; H 0 0 -1',\n",
    "    basis = 'sto-3g', unit='bohr')"
   ]
  },
  {
   "cell_type": "code",
   "execution_count": 50,
   "id": "01792d55-15b2-4794-9e90-5a5b38e5f8f3",
   "metadata": {},
   "outputs": [
    {
     "data": {
      "text/plain": [
       "\u001b[0;31mSignature:\u001b[0m\n",
       " \u001b[0mmol\u001b[0m\u001b[0;34m.\u001b[0m\u001b[0mbuild\u001b[0m\u001b[0;34m(\u001b[0m\u001b[0;34m\u001b[0m\n",
       "\u001b[0;34m\u001b[0m    \u001b[0mdump_input\u001b[0m\u001b[0;34m=\u001b[0m\u001b[0;32mTrue\u001b[0m\u001b[0;34m,\u001b[0m\u001b[0;34m\u001b[0m\n",
       "\u001b[0;34m\u001b[0m    \u001b[0mparse_arg\u001b[0m\u001b[0;34m=\u001b[0m\u001b[0;32mFalse\u001b[0m\u001b[0;34m,\u001b[0m\u001b[0;34m\u001b[0m\n",
       "\u001b[0;34m\u001b[0m    \u001b[0mverbose\u001b[0m\u001b[0;34m=\u001b[0m\u001b[0;32mNone\u001b[0m\u001b[0;34m,\u001b[0m\u001b[0;34m\u001b[0m\n",
       "\u001b[0;34m\u001b[0m    \u001b[0moutput\u001b[0m\u001b[0;34m=\u001b[0m\u001b[0;32mNone\u001b[0m\u001b[0;34m,\u001b[0m\u001b[0;34m\u001b[0m\n",
       "\u001b[0;34m\u001b[0m    \u001b[0mmax_memory\u001b[0m\u001b[0;34m=\u001b[0m\u001b[0;32mNone\u001b[0m\u001b[0;34m,\u001b[0m\u001b[0;34m\u001b[0m\n",
       "\u001b[0;34m\u001b[0m    \u001b[0matom\u001b[0m\u001b[0;34m=\u001b[0m\u001b[0;32mNone\u001b[0m\u001b[0;34m,\u001b[0m\u001b[0;34m\u001b[0m\n",
       "\u001b[0;34m\u001b[0m    \u001b[0mbasis\u001b[0m\u001b[0;34m=\u001b[0m\u001b[0;32mNone\u001b[0m\u001b[0;34m,\u001b[0m\u001b[0;34m\u001b[0m\n",
       "\u001b[0;34m\u001b[0m    \u001b[0munit\u001b[0m\u001b[0;34m=\u001b[0m\u001b[0;32mNone\u001b[0m\u001b[0;34m,\u001b[0m\u001b[0;34m\u001b[0m\n",
       "\u001b[0;34m\u001b[0m    \u001b[0mnucmod\u001b[0m\u001b[0;34m=\u001b[0m\u001b[0;32mNone\u001b[0m\u001b[0;34m,\u001b[0m\u001b[0;34m\u001b[0m\n",
       "\u001b[0;34m\u001b[0m    \u001b[0mecp\u001b[0m\u001b[0;34m=\u001b[0m\u001b[0;32mNone\u001b[0m\u001b[0;34m,\u001b[0m\u001b[0;34m\u001b[0m\n",
       "\u001b[0;34m\u001b[0m    \u001b[0mpseudo\u001b[0m\u001b[0;34m=\u001b[0m\u001b[0;32mNone\u001b[0m\u001b[0;34m,\u001b[0m\u001b[0;34m\u001b[0m\n",
       "\u001b[0;34m\u001b[0m    \u001b[0mcharge\u001b[0m\u001b[0;34m=\u001b[0m\u001b[0;32mNone\u001b[0m\u001b[0;34m,\u001b[0m\u001b[0;34m\u001b[0m\n",
       "\u001b[0;34m\u001b[0m    \u001b[0mspin\u001b[0m\u001b[0;34m=\u001b[0m\u001b[0;36m0\u001b[0m\u001b[0;34m,\u001b[0m\u001b[0;34m\u001b[0m\n",
       "\u001b[0;34m\u001b[0m    \u001b[0msymmetry\u001b[0m\u001b[0;34m=\u001b[0m\u001b[0;32mNone\u001b[0m\u001b[0;34m,\u001b[0m\u001b[0;34m\u001b[0m\n",
       "\u001b[0;34m\u001b[0m    \u001b[0msymmetry_subgroup\u001b[0m\u001b[0;34m=\u001b[0m\u001b[0;32mNone\u001b[0m\u001b[0;34m,\u001b[0m\u001b[0;34m\u001b[0m\n",
       "\u001b[0;34m\u001b[0m    \u001b[0mcart\u001b[0m\u001b[0;34m=\u001b[0m\u001b[0;32mNone\u001b[0m\u001b[0;34m,\u001b[0m\u001b[0;34m\u001b[0m\n",
       "\u001b[0;34m\u001b[0m    \u001b[0mmagmom\u001b[0m\u001b[0;34m=\u001b[0m\u001b[0;32mNone\u001b[0m\u001b[0;34m,\u001b[0m\u001b[0;34m\u001b[0m\n",
       "\u001b[0;34m\u001b[0m\u001b[0;34m)\u001b[0m\u001b[0;34m\u001b[0m\u001b[0;34m\u001b[0m\u001b[0m\n",
       "\u001b[0;31mDocstring:\u001b[0m\n",
       "Setup molecule and initialize some control parameters.  Whenever you\n",
       "change the value of the attributes of :class:`Mole`, you need call\n",
       "this function to refresh the internal data of Mole.\n",
       "\n",
       "Kwargs:\n",
       "    dump_input : bool\n",
       "        whether to dump the contents of input file in the output file\n",
       "    parse_arg : bool\n",
       "        whether to read the sys.argv and overwrite the relevant parameters\n",
       "    verbose : int\n",
       "        Print level.  If given, overwrite :attr:`Mole.verbose`\n",
       "    output : str or None\n",
       "        Output file.  If given, overwrite :attr:`Mole.output`\n",
       "    max_memory : int, float\n",
       "        Allowd memory in MB.  If given, overwrite :attr:`Mole.max_memory`\n",
       "    atom : list or str\n",
       "        To define molecular structure.\n",
       "    basis : dict or str\n",
       "        To define basis set.\n",
       "    nucmod : dict or str\n",
       "        Nuclear model.  If given, overwrite :attr:`Mole.nucmod`\n",
       "    charge : int\n",
       "        Charge of molecule. It affects the electron numbers\n",
       "        If given, overwrite :attr:`Mole.charge`\n",
       "    spin : int\n",
       "        2S, num. alpha electrons - num. beta electrons to control\n",
       "        multiplicity. If setting spin = None , multiplicity will be\n",
       "        guessed based on the neutral molecule.\n",
       "        If given, overwrite :attr:`Mole.spin`\n",
       "    symmetry : bool or str\n",
       "        Whether to use symmetry.  If given a string of point group\n",
       "        name, the given point group symmetry will be used.\n",
       "    magmom : list\n",
       "        Collinear spin of each atom. Default is [0.0,]*natm\n",
       "\u001b[0;31mFile:\u001b[0m      ~/Python-projects/ferminet/ferminet/ferminet-jax/lib/python3.13/site-packages/pyscf/gto/mole.py\n",
       "\u001b[0;31mType:\u001b[0m      method"
      ]
     },
     "metadata": {},
     "output_type": "display_data"
    }
   ],
   "source": [
    "? mol.build"
   ]
  },
  {
   "cell_type": "code",
   "execution_count": 57,
   "id": "766d06c4-5d6e-45c1-988b-80e629a1ea7f",
   "metadata": {},
   "outputs": [],
   "source": [
    "from pyscf import gto\n",
    "mol = gto.Mole()\n",
    "mol.build(\n",
    "    atom = 'H  0 0 0',\n",
    "    spin = 1,\n",
    "    basis = 'sto-3g', unit='bohr')\n",
    "\n",
    "\n",
    "from ferminet import base_2DEG_config\n",
    "from ferminet import train\n",
    "\n",
    "# Add H2 molecule\n",
    "cfg = base_config.default()\n",
    "cfg.system.pyscf_mol = mol\n",
    "\n",
    "# Set training parameters\n",
    "cfg.batch_size = 256\n",
    "cfg.pretrain.iterations = 100"
   ]
  },
  {
   "cell_type": "code",
   "execution_count": null,
   "id": "47f2aa00-f99f-4240-83d1-2a282656a219",
   "metadata": {},
   "outputs": [],
   "source": []
  },
  {
   "cell_type": "code",
   "execution_count": null,
   "id": "7c61b863-3665-4b31-be4d-59192817b6c7",
   "metadata": {},
   "outputs": [],
   "source": []
  },
  {
   "cell_type": "code",
   "execution_count": null,
   "id": "4d8d7d79-5fea-4fdd-a024-d0fd506a2b1e",
   "metadata": {},
   "outputs": [],
   "source": [
    "train.train(cfg)"
   ]
  },
  {
   "cell_type": "code",
   "execution_count": null,
   "id": "4ecbf428-7cab-46ad-b660-80ef02b9bc5d",
   "metadata": {},
   "outputs": [],
   "source": []
  },
  {
   "cell_type": "code",
   "execution_count": 54,
   "id": "aec588c5-9e2a-413a-9a3e-b2afc7adb52f",
   "metadata": {},
   "outputs": [
    {
     "data": {
      "text/plain": [
       "batch_size: 256\n",
       "config_module: ferminet.base_config\n",
       "debug:\n",
       "  check_nan: false\n",
       "  deterministic: false\n",
       "log:\n",
       "  features: false\n",
       "  local_energies: false\n",
       "  restore_path: ''\n",
       "  save_frequency: 10.0\n",
       "  save_path: ''\n",
       "  stats_frequency: 1\n",
       "  walkers: false\n",
       "mcmc:\n",
       "  adapt_frequency: 100\n",
       "  blocks: 1\n",
       "  burn_in: 100\n",
       "  init_means: !!python/tuple []\n",
       "  init_width: 1.0\n",
       "  move_width: 0.02\n",
       "  num_leapfrog_steps: 10\n",
       "  scale_by_nuclear_distance: false\n",
       "  steps: 10\n",
       "  use_hmc: false\n",
       "network:\n",
       "  bias_orbitals: false\n",
       "  complex: false\n",
       "  determinants: 16\n",
       "  ferminet:\n",
       "    electron_nuclear_aux_dims: !!python/tuple []\n",
       "    hidden_dims: !!python/tuple\n",
       "    - &id001 !!python/tuple\n",
       "      - 256\n",
       "      - 32\n",
       "    - *id001\n",
       "    - *id001\n",
       "    - *id001\n",
       "    nuclear_embedding_dim: 0\n",
       "    schnet_electron_electron_convolutions: !!python/tuple []\n",
       "    schnet_electron_nuclear_convolutions: !!python/tuple []\n",
       "    separate_spin_channels: false\n",
       "    use_last_layer: false\n",
       "  full_det: true\n",
       "  jastrow: default\n",
       "  make_envelope_fn: ''\n",
       "  make_envelope_kwargs: {}\n",
       "  make_feature_layer_fn: ''\n",
       "  make_feature_layer_kwargs: {}\n",
       "  network_type: ferminet\n",
       "  psiformer:\n",
       "    heads_dim: 64\n",
       "    mlp_hidden_dims: !!python/tuple\n",
       "    - 256\n",
       "    num_heads: 4\n",
       "    num_layers: 4\n",
       "    use_layer_norm: true\n",
       "  rescale_inputs: false\n",
       "observables:\n",
       "  density: false\n",
       "  density_basis: def2-tzvpd\n",
       "  dipole: false\n",
       "  s2: false\n",
       "optim:\n",
       "  adam:\n",
       "    b1: 0.9\n",
       "    b2: 0.999\n",
       "    eps: 1.0e-08\n",
       "    eps_root: 0.0\n",
       "  center_at_clip: true\n",
       "  clip_local_energy: 5.0\n",
       "  clip_median: false\n",
       "  iterations: 1000000\n",
       "  kfac:\n",
       "    cov_ema_decay: 0.95\n",
       "    cov_update_every: 1\n",
       "    damping: 0.001\n",
       "    invert_every: 1\n",
       "    l2_reg: 0.0\n",
       "    mean_center: true\n",
       "    min_damping: 0.0001\n",
       "    momentum: 0.0\n",
       "    momentum_type: regular\n",
       "    norm_constraint: 0.001\n",
       "    register_only_generic: false\n",
       "  laplacian: default\n",
       "  lr:\n",
       "    decay: 1.0\n",
       "    delay: 10000.0\n",
       "    rate: 0.05\n",
       "  max_vmap_batch_size: 0\n",
       "  objective: vmc\n",
       "  optimizer: kfac\n",
       "  overlap:\n",
       "    penalty: 1.0\n",
       "    weights: null\n",
       "  reset_if_nan: false\n",
       "  spin_energy: 0.0\n",
       "  vmc_weight: 0.0\n",
       "pretrain:\n",
       "  basis: ccpvdz\n",
       "  excitation_type: ordered\n",
       "  iterations: 100\n",
       "  method: hf\n",
       "  scf_fraction: 1.0\n",
       "system:\n",
       "  electrons: !!python/tuple []\n",
       "  make_local_energy_fn: ''\n",
       "  make_local_energy_kwargs: {}\n",
       "  molecule: !!python/object:ml_collections.config_dict.config_dict.FieldReference\n",
       "    _field_type: !!python/name:builtins.list ''\n",
       "    _ops: []\n",
       "    _required: false\n",
       "    _value: null\n",
       "  ndim: 3\n",
       "  pp:\n",
       "    basis: ccecp-cc-pVDZ\n",
       "    symbols: null\n",
       "    type: ccecp\n",
       "  pyscf_mol: !!python/object/new:pyscf.gto.mole.Mole\n",
       "    state: '{\"atom\": \"''H  0 0 1''\", \"basis\": \"''sto-3g''\", \"nucmod\": {}, \"ecp\": \"{}\",\n",
       "      \"nucprop\": {}, \"magmom\": [0], \"pseudo\": \"None\", \"_atm\": [[1, 20, 1, 23, 0, 0]],\n",
       "      \"_bas\": [[0, 0, 3, 1, 0, 24, 27, 0]], \"_env\": [0.0, 0.0, 0.0, 0.0, 0.0, 0.0,\n",
       "      0.0, 0.0, 0.0, 0.0, 0.0, 0.0, 0.0, 0.0, 0.0, 0.0, 0.0, 0.0, 0.0, 0.0, 0.0, 0.0,\n",
       "      1.0, 0.0, 3.42525091, 0.62391373, 0.1688554, 0.9817067490371573, 0.9494640084217568,\n",
       "      0.29590645432346807], \"_ecpbas\": [], \"groupname\": \"C1\", \"topgroup\": \"C1\", \"_symm_orig\":\n",
       "      null, \"_symm_axes\": null, \"_nelectron\": null, \"_nao\": null, \"_enuc\": null, \"_atom\":\n",
       "      [[\"H\", [0.0, 0.0, 1.0]]], \"_basis\": {\"H\": [[0, [3.42525091, 0.15432897], [0.62391373,\n",
       "      0.53532814], [0.1688554, 0.44463454]]]}, \"_ecp\": {}, \"_pseudo\": {}, \"_built\":\n",
       "      true, \"unit\": \"bohr\", \"spin\": 1}'\n",
       "  set_molecule: null\n",
       "  states: 0\n",
       "  type: 1\n",
       "  units: bohr\n",
       "  use_pp: false"
      ]
     },
     "execution_count": 54,
     "metadata": {},
     "output_type": "execute_result"
    }
   ],
   "source": [
    "cfg"
   ]
  },
  {
   "cell_type": "code",
   "execution_count": 11,
   "id": "7b4d0777-40df-4d6e-857e-6ed416867411",
   "metadata": {},
   "outputs": [],
   "source": [
    "cfg.optim.iterations = 500"
   ]
  },
  {
   "cell_type": "code",
   "execution_count": 13,
   "id": "26997f5f-ba1c-4465-a301-0d0dae611c41",
   "metadata": {},
   "outputs": [
    {
     "data": {
      "text/plain": [
       "''"
      ]
     },
     "execution_count": 13,
     "metadata": {},
     "output_type": "execute_result"
    }
   ],
   "source": [
    "cfg.log.save_path = './ferminet-log'"
   ]
  },
  {
   "cell_type": "code",
   "execution_count": 19,
   "id": "b2b9769f-0ab2-406e-b770-3771d98763df",
   "metadata": {},
   "outputs": [
    {
     "data": {
      "text/plain": [
       "NoneType"
      ]
     },
     "execution_count": 19,
     "metadata": {},
     "output_type": "execute_result"
    }
   ],
   "source": [
    "type(cfg.system.molecule)"
   ]
  },
  {
   "cell_type": "code",
   "execution_count": 55,
   "id": "a764234a-5eb5-4bc3-a791-13ca1af051ed",
   "metadata": {},
   "outputs": [
    {
     "data": {
      "text/plain": [
       "array([1], dtype=int32)"
      ]
     },
     "execution_count": 55,
     "metadata": {},
     "output_type": "execute_result"
    }
   ],
   "source": [
    "cfg.system.pyscf_mol.atom_charges()"
   ]
  },
  {
   "cell_type": "code",
   "execution_count": 56,
   "id": "a718c570-dac3-43ae-9147-5c31c65c45de",
   "metadata": {},
   "outputs": [
    {
     "data": {
      "text/plain": [
       "array([[0., 0., 1.]])"
      ]
     },
     "execution_count": 56,
     "metadata": {},
     "output_type": "execute_result"
    }
   ],
   "source": [
    "cfg.system.pyscf_mol.atom_coords()"
   ]
  },
  {
   "cell_type": "code",
   "execution_count": 46,
   "id": "7e691849-ea2a-4f6f-ac7e-57bd393d04e5",
   "metadata": {},
   "outputs": [
    {
     "data": {
      "text/plain": [
       "1"
      ]
     },
     "execution_count": 46,
     "metadata": {},
     "output_type": "execute_result"
    }
   ],
   "source": [
    "cfg.system.pyscf_mol."
   ]
  },
  {
   "cell_type": "code",
   "execution_count": 62,
   "id": "6e7e55d1-3864-4f60-b69e-36aac010252d",
   "metadata": {},
   "outputs": [
    {
     "data": {
      "text/plain": [
       "Array(0.9640276, dtype=float32, weak_type=True)"
      ]
     },
     "execution_count": 62,
     "metadata": {},
     "output_type": "execute_result"
    }
   ],
   "source": [
    "import jax.numpy as jnp\n",
    "\n",
    "jnp.tanh(2)"
   ]
  },
  {
   "cell_type": "code",
   "execution_count": 68,
   "id": "d8cf409b-3cd8-43f3-840f-58badb59c81e",
   "metadata": {},
   "outputs": [
    {
     "data": {
      "text/plain": [
       "Array([0.000000e+00, 0.000000e+00, 0.000000e+00, 0.000000e+00,\n",
       "       4.541874e-05, 5.000000e-01, 9.999546e-01, 1.000000e+00,\n",
       "       1.000000e+00], dtype=float32)"
      ]
     },
     "execution_count": 68,
     "metadata": {},
     "output_type": "execute_result"
    }
   ],
   "source": [
    "arr = jnp.array([0, 0.5, 1., 5, 9.5, 10, 10.5, 11, 15])\n",
    "(1. + jnp.tanh((arr - 10) / 0.1)) / 2"
   ]
  },
  {
   "cell_type": "code",
   "execution_count": 82,
   "id": "7389fb95-01ac-4465-9300-5222060c9f1d",
   "metadata": {},
   "outputs": [],
   "source": [
    "import jax.random as random\n",
    "\n",
    "key = random.PRNGKey(42)\n",
    "key1, key2 = random.split(key)\n",
    "arr1 = random.uniform(key1, (2,3))\n",
    "arr2 = jnp.array([0, 1, -1])"
   ]
  },
  {
   "cell_type": "code",
   "execution_count": null,
   "id": "c95160b2-2834-486d-a9b3-7d79079c58f6",
   "metadata": {},
   "outputs": [],
   "source": []
  },
  {
   "cell_type": "code",
   "execution_count": 81,
   "id": "db687e74-f65b-4795-8797-3a4c849674e1",
   "metadata": {},
   "outputs": [
    {
     "data": {
      "text/plain": [
       "Array([[0.87425196, 0.12079132, 0.5372118 ],\n",
       "       [0.41176045, 0.6269895 , 0.5899111 ]], dtype=float32)"
      ]
     },
     "execution_count": 81,
     "metadata": {},
     "output_type": "execute_result"
    }
   ],
   "source": [
    "arr1"
   ]
  },
  {
   "cell_type": "code",
   "execution_count": 83,
   "id": "b987251b-9058-46ec-946f-b565d78a715d",
   "metadata": {},
   "outputs": [
    {
     "data": {
      "text/plain": [
       "Array([[ 0.        ,  0.12079132, -0.5372118 ],\n",
       "       [ 0.        ,  0.6269895 , -0.5899111 ]], dtype=float32)"
      ]
     },
     "execution_count": 83,
     "metadata": {},
     "output_type": "execute_result"
    }
   ],
   "source": [
    "arr2 * arr1"
   ]
  },
  {
   "cell_type": "code",
   "execution_count": 84,
   "id": "1ba60074-d57a-465f-b370-741404f0a48b",
   "metadata": {},
   "outputs": [
    {
     "data": {
      "text/plain": [
       "Array([[ 0.        ,  0.12079132, -0.5372118 ],\n",
       "       [ 0.        ,  0.6269895 , -0.5899111 ]], dtype=float32)"
      ]
     },
     "execution_count": 84,
     "metadata": {},
     "output_type": "execute_result"
    }
   ],
   "source": [
    "arr1 * arr2"
   ]
  },
  {
   "cell_type": "code",
   "execution_count": null,
   "id": "dc5111fa-1715-45b5-b86e-7097a9ba8390",
   "metadata": {},
   "outputs": [],
   "source": []
  }
 ],
 "metadata": {
  "kernelspec": {
   "display_name": "Python 3 (ipykernel)",
   "language": "python",
   "name": "python3"
  },
  "language_info": {
   "codemirror_mode": {
    "name": "ipython",
    "version": 3
   },
   "file_extension": ".py",
   "mimetype": "text/x-python",
   "name": "python",
   "nbconvert_exporter": "python",
   "pygments_lexer": "ipython3",
   "version": "3.13.1"
  }
 },
 "nbformat": 4,
 "nbformat_minor": 5
}
